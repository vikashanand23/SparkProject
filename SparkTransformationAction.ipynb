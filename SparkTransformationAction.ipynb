{
  "nbformat": 4,
  "nbformat_minor": 0,
  "metadata": {
    "colab": {
      "name": "SparkTransformationAction.ipynb",
      "provenance": [],
      "toc_visible": true,
      "authorship_tag": "ABX9TyMXrLBOmhldZT9CCLy20gi3",
      "include_colab_link": true
    },
    "kernelspec": {
      "name": "python3",
      "display_name": "Python 3"
    },
    "language_info": {
      "name": "python"
    }
  },
  "cells": [
    {
      "cell_type": "markdown",
      "metadata": {
        "id": "view-in-github",
        "colab_type": "text"
      },
      "source": [
        "<a href=\"https://colab.research.google.com/github/vikashanand23/SparkProject/blob/main/SparkTransformationAction.ipynb\" target=\"_parent\"><img src=\"https://colab.research.google.com/assets/colab-badge.svg\" alt=\"Open In Colab\"/></a>"
      ]
    },
    {
      "cell_type": "markdown",
      "source": [
        "Install **Pyspark**"
      ],
      "metadata": {
        "id": "JjIR3wlOEPDR"
      }
    },
    {
      "cell_type": "code",
      "execution_count": 5,
      "metadata": {
        "colab": {
          "base_uri": "https://localhost:8080/"
        },
        "id": "pLwubDQMBdUJ",
        "outputId": "78137527-84c1-423a-ee29-5ff86d2ae379"
      },
      "outputs": [
        {
          "output_type": "stream",
          "name": "stdout",
          "text": [
            "Requirement already satisfied: pyspark in /usr/local/lib/python3.7/dist-packages (3.2.1)\n",
            "Requirement already satisfied: py4j==0.10.9.3 in /usr/local/lib/python3.7/dist-packages (from pyspark) (0.10.9.3)\n"
          ]
        }
      ],
      "source": [
        "!pip install pyspark\n"
      ]
    },
    {
      "cell_type": "markdown",
      "source": [
        "# import sparkcontext"
      ],
      "metadata": {
        "id": "olAqFqmOEUCD"
      }
    },
    {
      "cell_type": "code",
      "source": [
        "import pyspark\n",
        "from pyspark import SparkConf\n",
        "from pyspark.context import SparkContext "
      ],
      "metadata": {
        "id": "AehqZ8OxCZh4"
      },
      "execution_count": 15,
      "outputs": []
    },
    {
      "cell_type": "code",
      "source": [
        "sc = SparkContext.getOrCreate(SparkConf().setMaster(\"local[*]\"))"
      ],
      "metadata": {
        "id": "TJpzZfENCbnu"
      },
      "execution_count": 17,
      "outputs": []
    },
    {
      "cell_type": "markdown",
      "source": [
        "# Loading Dataset"
      ],
      "metadata": {
        "id": "w7xmjPvcEdJ7"
      }
    },
    {
      "cell_type": "code",
      "source": [
        "housingpath=\"/content/sample_data/california_housing_test.csv\""
      ],
      "metadata": {
        "id": "La76kQ8jCd4K"
      },
      "execution_count": 18,
      "outputs": []
    },
    {
      "cell_type": "code",
      "source": [
        "housing=sc.textFile(housingpath)"
      ],
      "metadata": {
        "id": "Ji85cmdjCxO7"
      },
      "execution_count": 19,
      "outputs": []
    },
    {
      "cell_type": "code",
      "source": [
        "print(housing)"
      ],
      "metadata": {
        "colab": {
          "base_uri": "https://localhost:8080/"
        },
        "id": "aHdi18bwDh8d",
        "outputId": "058addab-6ad0-4243-c8da-e622dab2a5f4"
      },
      "execution_count": 20,
      "outputs": [
        {
          "output_type": "stream",
          "name": "stdout",
          "text": [
            "/content/sample_data/california_housing_test.csv MapPartitionsRDD[1] at textFile at NativeMethodAccessorImpl.java:0\n"
          ]
        }
      ]
    },
    {
      "cell_type": "markdown",
      "source": [
        "# Get the first line"
      ],
      "metadata": {
        "id": "JUb1UBjWEBmv"
      }
    },
    {
      "cell_type": "code",
      "source": [
        "housing.first()"
      ],
      "metadata": {
        "colab": {
          "base_uri": "https://localhost:8080/",
          "height": 36
        },
        "id": "RclbGTs7D7lw",
        "outputId": "d5ef9544-559e-4986-ed5a-2b32175d95b6"
      },
      "execution_count": 21,
      "outputs": [
        {
          "output_type": "execute_result",
          "data": {
            "text/plain": [
              "'\"longitude\",\"latitude\",\"housing_median_age\",\"total_rooms\",\"total_bedrooms\",\"population\",\"households\",\"median_income\",\"median_house_value\"'"
            ],
            "application/vnd.google.colaboratory.intrinsic+json": {
              "type": "string"
            }
          },
          "metadata": {},
          "execution_count": 21
        }
      ]
    },
    {
      "cell_type": "markdown",
      "source": [
        "# Get all lines"
      ],
      "metadata": {
        "id": "FQfAv4FEEm6z"
      }
    },
    {
      "cell_type": "code",
      "source": [
        "housing.collect()"
      ],
      "metadata": {
        "id": "59CCMZN9EsZI"
      },
      "execution_count": null,
      "outputs": []
    },
    {
      "cell_type": "markdown",
      "source": [
        "#count rows"
      ],
      "metadata": {
        "id": "z-DS5rUCH02h"
      }
    },
    {
      "cell_type": "code",
      "source": [
        "housing.count()"
      ],
      "metadata": {
        "colab": {
          "base_uri": "https://localhost:8080/"
        },
        "id": "oaiKiXR0H11U",
        "outputId": "448316bf-ad2b-437e-fb25-d5854cce4993"
      },
      "execution_count": 23,
      "outputs": [
        {
          "output_type": "execute_result",
          "data": {
            "text/plain": [
              "3001"
            ]
          },
          "metadata": {},
          "execution_count": 23
        }
      ]
    },
    {
      "cell_type": "markdown",
      "source": [
        "# Transformation"
      ],
      "metadata": {
        "id": "wWjOj6rVO0n7"
      }
    },
    {
      "cell_type": "code",
      "source": [
        "newhousing=housing.filter(lambda x:'longitude' not in x)"
      ],
      "metadata": {
        "id": "lu_ZPdvuIQ0s"
      },
      "execution_count": 25,
      "outputs": []
    },
    {
      "cell_type": "code",
      "source": [
        "print(newhousing)"
      ],
      "metadata": {
        "colab": {
          "base_uri": "https://localhost:8080/"
        },
        "id": "L-ZaeWudIrxp",
        "outputId": "2afb9127-7215-48cc-d7f1-df0f5f33aa95"
      },
      "execution_count": 26,
      "outputs": [
        {
          "output_type": "stream",
          "name": "stdout",
          "text": [
            "PythonRDD[5] at RDD at PythonRDD.scala:53\n"
          ]
        }
      ]
    },
    {
      "cell_type": "code",
      "source": [
        "newhousing.take(10)"
      ],
      "metadata": {
        "id": "ohEocvaJIxCz"
      },
      "execution_count": null,
      "outputs": []
    },
    {
      "cell_type": "code",
      "source": [
        "parsedhousing=newhousing.map(lambda x:x.split(\",\"))"
      ],
      "metadata": {
        "id": "lhOZFej-I3D5"
      },
      "execution_count": 28,
      "outputs": []
    },
    {
      "cell_type": "code",
      "source": [
        "parsedhousing.take(10)"
      ],
      "metadata": {
        "id": "Utop3mkBJuIq"
      },
      "execution_count": null,
      "outputs": []
    },
    {
      "cell_type": "code",
      "source": [
        "x=housing.map(len)"
      ],
      "metadata": {
        "id": "Z-ayGX1yJ_vr"
      },
      "execution_count": 33,
      "outputs": []
    },
    {
      "cell_type": "code",
      "source": [
        "x.count()"
      ],
      "metadata": {
        "colab": {
          "base_uri": "https://localhost:8080/"
        },
        "id": "bBtM59DiKsAA",
        "outputId": "597b6140-7397-41bc-c072-ec38db68b31c"
      },
      "execution_count": 38,
      "outputs": [
        {
          "output_type": "execute_result",
          "data": {
            "text/plain": [
              "3001"
            ]
          },
          "metadata": {},
          "execution_count": 38
        }
      ]
    },
    {
      "cell_type": "code",
      "source": [
        "x.take(10)"
      ],
      "metadata": {
        "colab": {
          "base_uri": "https://localhost:8080/"
        },
        "id": "xQGnRzQGLClY",
        "outputId": "c2c864ff-3e56-46c1-87f3-0f44e7f20b60"
      },
      "execution_count": 39,
      "outputs": [
        {
          "output_type": "execute_result",
          "data": {
            "text/plain": [
              "[137, 100, 99, 100, 94, 98, 98, 98, 100, 100]"
            ]
          },
          "metadata": {},
          "execution_count": 39
        }
      ]
    },
    {
      "cell_type": "code",
      "source": [
        ""
      ],
      "metadata": {
        "id": "dA-xQQaILPx3"
      },
      "execution_count": null,
      "outputs": []
    }
  ]
}